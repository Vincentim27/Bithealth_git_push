{
 "cells": [
  {
   "cell_type": "markdown",
   "metadata": {},
   "source": [
    "Cara push:\n",
    "1. `git clone` repository\n",
    "2. cd ke folder yg baru di clone (bithealth_git_push)\n",
    "3. `git status` cek file yg akan di push (harusnya warna merah)\n",
    "4. `git add .` kita masukin seluruh file (. = semua, kalo mau satu file ya nama file nya saja misal git add push_kuy.ipynb)\n",
    "5. `git status` cek file yg di stage mode (harusnya warna berubah jadi hijau)\n",
    "6. `git commit -m \"final_pakek_banget\"`\n",
    "7. `git push` \n",
    "8. make sure file sudah terupload/terpush ke repo kita..\n",
    "9. `git checkout` untuk cek version"
   ]
  }
 ],
 "metadata": {
  "language_info": {
   "name": "python"
  }
 },
 "nbformat": 4,
 "nbformat_minor": 2
}
